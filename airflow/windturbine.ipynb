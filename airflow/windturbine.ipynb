{
 "cells": [
  {
   "cell_type": "code",
   "execution_count": null,
   "metadata": {},
   "outputs": [],
   "source": [
    "import json\n",
    "from random import uniform\n",
    "import time\n",
    "from datetime import datetime\n",
    "id = 0\n",
    "while True:\n",
    "    id += 1\n",
    "    dados_pf = uniform(0.7,1)\n",
    "\n",
    "    dados_hp = uniform(70,80)\n",
    "\n",
    "    dados_tp = uniform(20,25)\n",
    "    registro = {'idtemp' : str(id), 'powerfactor' : str(dados_pf),'hydraulicpressure' : str(dados_hp) ,\n",
    "                'temperature' : str(dados_tp) ,'timestamp' : str(datetime.now()) }\n",
    "    \n",
    "    with open('data/data.json', 'w') as fp:\n",
    "        json.dump(registro, fp)\n",
    "  \n",
    "    time.sleep(1000)"
   ]
  }
 ],
 "metadata": {
  "kernelspec": {
   "display_name": "Python 3",
   "language": "python",
   "name": "python3"
  },
  "language_info": {
   "codemirror_mode": {
    "name": "ipython",
    "version": 3
   },
   "file_extension": ".py",
   "mimetype": "text/x-python",
   "name": "python",
   "nbconvert_exporter": "python",
   "pygments_lexer": "ipython3",
   "version": "3.12.0"
  }
 },
 "nbformat": 4,
 "nbformat_minor": 2
}
